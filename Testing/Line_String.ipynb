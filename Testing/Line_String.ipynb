{
 "cells": [
  {
   "cell_type": "code",
   "execution_count": 2,
   "metadata": {},
   "outputs": [],
   "source": [
    "# Import dependencies\n",
    "from pprint import pprint\n",
    "import json"
   ]
  },
  {
   "cell_type": "code",
   "execution_count": 3,
   "metadata": {},
   "outputs": [],
   "source": [
    "# Create the geojsonify function with the line string format\n",
    "def line_string(data):\n",
    "    \n",
    "    # Initialize the features array\n",
    "    features = []\n",
    "    \n",
    "    # Loop through the list of dictionaries\n",
    "    for i in range(0, len(data)):\n",
    "        \n",
    "        # Initialize lists to store the latitudes and longitudes\n",
    "        coord1 = []\n",
    "        coord2 = []\n",
    "        \n",
    "        # Loop through each latitude and longitude and append them into the lists\n",
    "        # Assigne key1 to the lat\n",
    "        for key1, value1 in data[i].items():\n",
    "            # Assigne key2 to lng\n",
    "            for key2, value2 in data[i].items():\n",
    "                if key1 == 'lat' and key2 == 'lng':\n",
    "                    # Index through the list of values in each key\n",
    "                    # lat and lng should have the same number of values in their lists,\n",
    "                    # so I only need to do the range of the length of one of the lists.\n",
    "                    for j in range(0, len(data[i][key1])):\n",
    "                        # value1 == lat\n",
    "                        value1 = data[i][key1][j]\n",
    "                        # value2 == lng\n",
    "                        value2 = data[i][key2][j]\n",
    "                        # Append to the coord1 and coord2 lists\n",
    "                        coord1.append(value1)\n",
    "                        coord2.append(value2)\n",
    "         \n",
    "        # Use list comprehension to create a list of lists that contain the coordinate pairs as (lng, lat)\n",
    "        coordinates = [[coord2[i], coord1[i]] for i in range(0, len(coord1))]\n",
    "                \n",
    "        \n",
    "        # Loop through the key and values to populatate a new dictionary called properties\n",
    "        # Excluding the lat and lng\n",
    "        properties = {key: value for key, value in data[i].items() if key != \"lat\" and key != \"lng\"}\n",
    "        \n",
    "        # Create the key and values that will populate the features array\n",
    "        my_features = {\n",
    "            \"type\": \"Feature\",\n",
    "            \"properties\": properties,\n",
    "            \"geometry\": {\n",
    "                \"type\": \"LineString\",\n",
    "                \"coordinates\": coordinates\n",
    "            }\n",
    "        }\n",
    "        \n",
    "        # Append to the features array\n",
    "        features.append(my_features)\n",
    "        \n",
    "    # Create a new dictionary that will be the format for the geojson object\n",
    "    new_data = {\n",
    "        \"type\": \"FeatureCollection\",\n",
    "        \"features\": features\n",
    "    }\n",
    "    \n",
    "    \n",
    "    # Function returns the json object\n",
    "    return json.dumps(new_data)"
   ]
  },
  {
   "cell_type": "code",
   "execution_count": 26,
   "metadata": {},
   "outputs": [
    {
     "name": "stdout",
     "output_type": "stream",
     "text": [
      "32.7157\n"
     ]
    }
   ],
   "source": [
    "# Create some test data\n",
    "test = [{\n",
    "    'place': 'San Diego',\n",
    "    'mag': 3.2,\n",
    "    'lat': [32.7157, 38.3396],\n",
    "    'lng': [-117.611, -122.7011]\n",
    "}]\n",
    "print(test[0]['lat'][0])"
   ]
  },
  {
   "cell_type": "code",
   "execution_count": 28,
   "metadata": {},
   "outputs": [
    {
     "name": "stdout",
     "output_type": "stream",
     "text": [
      "('{\"type\": \"FeatureCollection\", \"features\": [{\"type\": \"Feature\", \"properties\": '\n",
      " '{\"place\": \"San Diego\", \"mag\": 3.2}, \"geometry\": {\"type\": \"LineString\", '\n",
      " '\"coordinates\": [[-117.611, 32.7157], [-122.7011, 38.3396]]}}]}')\n"
     ]
    }
   ],
   "source": [
    "# Test the function\n",
    "result = line_string(test)\n",
    "\n",
    "pprint(result)"
   ]
  },
  {
   "cell_type": "code",
   "execution_count": 29,
   "metadata": {},
   "outputs": [
    {
     "name": "stdout",
     "output_type": "stream",
     "text": [
      "('{\"type\": \"FeatureCollection\", \"features\": [{\"type\": \"Feature\", \"properties\": '\n",
      " '{\"place\": \"San Diego\", \"mag\": 3.2}, \"geometry\": {\"type\": \"LineString\", '\n",
      " '\"coordinates\": [[-117.611, 32.7157], [-122.7011, 38.3396]]}}, {\"type\": '\n",
      " '\"Feature\", \"properties\": {\"place\": \"San Diego\", \"mag\": 3.2}, \"geometry\": '\n",
      " '{\"type\": \"LineString\", \"coordinates\": [[-117.611, 32.7157], [-122.7011, '\n",
      " '38.3396]]}}, {\"type\": \"Feature\", \"properties\": {\"place\": \"San Diego\", \"mag\": '\n",
      " '3.2}, \"geometry\": {\"type\": \"LineString\", \"coordinates\": [[-117.611, '\n",
      " '32.7157], [-122.7011, 38.3396]]}}]}')\n"
     ]
    }
   ],
   "source": [
    "# Testing with a list of dictionaries\n",
    "test2 = [{\n",
    "    'place': 'San Diego',\n",
    "    'mag': 3.2,\n",
    "    'lat': [32.7157, 38.3396],\n",
    "    'lng': [-117.611, -122.7011]\n",
    "},\n",
    "{\n",
    "    'place': 'San Diego',\n",
    "    'mag': 3.2,\n",
    "    'lat': [32.7157, 38.3396],\n",
    "    'lng': [-117.611, -122.7011]\n",
    "},\n",
    "{\n",
    "    'place': 'San Diego',\n",
    "    'mag': 3.2,\n",
    "    'lat': [32.7157, 38.3396],\n",
    "    'lng': [-117.611, -122.7011]\n",
    "}]\n",
    "\n",
    "result2 = line_string(test2)\n",
    "\n",
    "pprint(result2)"
   ]
  },
  {
   "cell_type": "code",
   "execution_count": 4,
   "metadata": {},
   "outputs": [
    {
     "name": "stdout",
     "output_type": "stream",
     "text": [
      "('{\"type\": \"FeatureCollection\", \"features\": [{\"type\": \"Feature\", \"properties\": '\n",
      " '{\"place\": \"San Diego\", \"mag\": 3.2}, \"geometry\": {\"type\": \"LineString\", '\n",
      " '\"coordinates\": [[-117.611, 32.7157]]}}]}')\n"
     ]
    }
   ],
   "source": [
    "# See what happens when you put point data into the Line String function\n",
    "test3 = [{\n",
    "    'place': 'San Diego',\n",
    "    'mag': 3.2,\n",
    "    'lat': [32.7157],\n",
    "    'lng': [-117.611]\n",
    "}]\n",
    "\n",
    "result3 = line_string(test3)\n",
    "\n",
    "pprint(result3)"
   ]
  }
 ],
 "metadata": {
  "kernelspec": {
   "display_name": "Python 3",
   "language": "python",
   "name": "python3"
  },
  "language_info": {
   "codemirror_mode": {
    "name": "ipython",
    "version": 3
   },
   "file_extension": ".py",
   "mimetype": "text/x-python",
   "name": "python",
   "nbconvert_exporter": "python",
   "pygments_lexer": "ipython3",
   "version": "3.6.8"
  }
 },
 "nbformat": 4,
 "nbformat_minor": 2
}
