{
 "cells": [
  {
   "cell_type": "code",
   "execution_count": 1,
   "metadata": {},
   "outputs": [],
   "source": [
    "# Import dependencies\n",
    "from pprint import pprint\n",
    "import json"
   ]
  },
  {
   "cell_type": "code",
   "execution_count": 2,
   "metadata": {},
   "outputs": [],
   "source": [
    "# Create the geojsonify function with the line string format\n",
    "def polygon(data):\n",
    "    \n",
    "    # Initialize the features array\n",
    "    features = []\n",
    "    \n",
    "    # Create lists of possible names and abbrev. for latitude and longitude\n",
    "    latitude = ['lat', 'latitude', 'Lat', 'Latitude']\n",
    "    longitude = ['lng', 'longitude', 'Lng', 'Longitude']\n",
    "    \n",
    "    # Loop through the list of dictionaries\n",
    "    for i in range(0, len(data)):\n",
    "        \n",
    "        # Initialize lists to store the latitudes and longitudes\n",
    "        coord1 = []\n",
    "        coord2 = []\n",
    "        \n",
    "        # Create functions to determine if the key is latitude or longitude\n",
    "        def is_coord(key, data_list):\n",
    "            for i in range(0, len(data_list)):\n",
    "                if key == data_list[i]:\n",
    "                    return data_list[i]\n",
    "        \n",
    "        # Loop through each latitude and longitude and append them into the lists\n",
    "        # Assigne key1 to the lat\n",
    "        for key1, value1 in data[i].items():\n",
    "            # Assigne key2 to lng\n",
    "            for key2, value2 in data[i].items():\n",
    "                if key1 == is_coord(key1, latitude) and key2 == is_coord(key2, longitude):\n",
    "                    # Index through the list of values in each key\n",
    "                    # lat and lng should have the same number of values in their lists,\n",
    "                    # so I only need to do the range of the length of one of the lists.\n",
    "                    for j in range(0, len(data[i][key1])):\n",
    "                        # value1 == lat\n",
    "                        value1 = data[i][key1][j]\n",
    "                        # value2 == lng\n",
    "                        value2 = data[i][key2][j]\n",
    "                        # Append to the coord1 and coord2 lists\n",
    "                        coord1.append(value1)\n",
    "                        coord2.append(value2)\n",
    "         \n",
    "        # Use list comprehension to create a list of lists that contain the coordinate pairs as (lng, lat)\n",
    "        coordinates_1 = [[coord2[i], coord1[i]] for i in range(0, len(coord1))]\n",
    "        # Put the list of lists in another list for proper formatting\n",
    "        coordinates = [coordinates_1]\n",
    "                \n",
    "        \n",
    "        # Loop through the key and values to populatate a new dictionary called properties\n",
    "        # Excluding the lat and lng\n",
    "        properties = {key: value for key, value in data[i].items() if key != is_coord(key, latitude) and key != is_coord(key, longitude)}\n",
    "        \n",
    "        # Create the key and values that will populate the features array\n",
    "        my_features = {\n",
    "            \"type\": \"Feature\",\n",
    "            \"properties\": properties,\n",
    "            \"geometry\": {\n",
    "                \"type\": \"Polygon\",\n",
    "                \"coordinates\": coordinates\n",
    "            }\n",
    "        }\n",
    "        \n",
    "        # Append to the features array\n",
    "        features.append(my_features)\n",
    "        \n",
    "    # Create a new dictionary that will be the format for the geojson object\n",
    "    new_data = {\n",
    "        \"type\": \"FeatureCollection\",\n",
    "        \"features\": features\n",
    "    }\n",
    "    \n",
    "    \n",
    "    # Function returns the json object\n",
    "    return json.dumps(new_data)"
   ]
  },
  {
   "cell_type": "code",
   "execution_count": 6,
   "metadata": {},
   "outputs": [],
   "source": [
    "# Create some test data\n",
    "test = [{\n",
    "    'place': 'San Diego',\n",
    "    'mag': 3.2,\n",
    "    'Lat': [42.68243539838623, 50.62507306341435, 53.9560855309879, 48.69096039092549, 42.68243539838623],\n",
    "    'Lng': [23.203125, 31.113281249999996, 22.32421875, 16.5234375, 23.203125]\n",
    "}]"
   ]
  },
  {
   "cell_type": "code",
   "execution_count": 7,
   "metadata": {},
   "outputs": [
    {
     "name": "stdout",
     "output_type": "stream",
     "text": [
      "('{\"type\": \"FeatureCollection\", \"features\": [{\"type\": \"Feature\", \"properties\": '\n",
      " '{\"place\": \"San Diego\", \"mag\": 3.2}, \"geometry\": {\"type\": \"Polygon\", '\n",
      " '\"coordinates\": [[[23.203125, 42.68243539838623], [31.113281249999996, '\n",
      " '50.62507306341435], [22.32421875, 53.9560855309879], [16.5234375, '\n",
      " '48.69096039092549], [23.203125, 42.68243539838623]]]}}]}')\n"
     ]
    }
   ],
   "source": [
    "# Test the function\n",
    "result = polygon(test)\n",
    "\n",
    "pprint(result)"
   ]
  },
  {
   "cell_type": "code",
   "execution_count": 5,
   "metadata": {},
   "outputs": [
    {
     "name": "stdout",
     "output_type": "stream",
     "text": [
      "('{\"type\": \"FeatureCollection\", \"features\": [{\"type\": \"Feature\", \"properties\": '\n",
      " '{\"place\": \"San Diego\", \"mag\": 3.2}, \"geometry\": {\"type\": \"Polygon\", '\n",
      " '\"coordinates\": [[[-117.611, 32.7157], [-122.7011, 38.3396]]]}}, {\"type\": '\n",
      " '\"Feature\", \"properties\": {\"place\": \"San Diego\", \"mag\": 3.2}, \"geometry\": '\n",
      " '{\"type\": \"Polygon\", \"coordinates\": [[[-117.611, 32.7157], [-122.7011, '\n",
      " '38.3396]]]}}, {\"type\": \"Feature\", \"properties\": {\"place\": \"San Diego\", '\n",
      " '\"mag\": 3.2}, \"geometry\": {\"type\": \"Polygon\", \"coordinates\": [[[-117.611, '\n",
      " '32.7157], [-122.7011, 38.3396]]]}}]}')\n"
     ]
    }
   ],
   "source": [
    "# Testing with a list of dictionaries\n",
    "test2 = [{\n",
    "    'place': 'San Diego',\n",
    "    'mag': 3.2,\n",
    "    'lat': [32.7157, 38.3396],\n",
    "    'lng': [-117.611, -122.7011]\n",
    "},\n",
    "{\n",
    "    'place': 'San Diego',\n",
    "    'mag': 3.2,\n",
    "    'lat': [32.7157, 38.3396],\n",
    "    'lng': [-117.611, -122.7011]\n",
    "},\n",
    "{\n",
    "    'place': 'San Diego',\n",
    "    'mag': 3.2,\n",
    "    'lat': [32.7157, 38.3396],\n",
    "    'lng': [-117.611, -122.7011]\n",
    "}]\n",
    "\n",
    "result2 = polygon(test2)\n",
    "\n",
    "pprint(result2)"
   ]
  }
 ],
 "metadata": {
  "kernelspec": {
   "display_name": "Python 3",
   "language": "python",
   "name": "python3"
  },
  "language_info": {
   "codemirror_mode": {
    "name": "ipython",
    "version": 3
   },
   "file_extension": ".py",
   "mimetype": "text/x-python",
   "name": "python",
   "nbconvert_exporter": "python",
   "pygments_lexer": "ipython3",
   "version": "3.6.8"
  }
 },
 "nbformat": 4,
 "nbformat_minor": 2
}
