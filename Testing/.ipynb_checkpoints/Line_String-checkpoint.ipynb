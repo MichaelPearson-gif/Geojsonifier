{
 "cells": [
  {
   "cell_type": "code",
   "execution_count": 1,
   "metadata": {},
   "outputs": [],
   "source": [
    "# Import dependencies\n",
    "from pprint import pprint\n",
    "import json"
   ]
  },
  {
   "cell_type": "code",
   "execution_count": 9,
   "metadata": {},
   "outputs": [],
   "source": [
    "# Create the geojsonify function with the line string format\n",
    "def line_string(data):\n",
    "    \n",
    "    # Initialize the features array\n",
    "    features = []\n",
    "    \n",
    "    # Loop through the list of dictionaries\n",
    "    for i in range(0, len(data)):\n",
    "        \n",
    "        # List comprehension to grab the coordinates in the order of longitude, latitude\n",
    "        # The function sorted() uses a keyword 'reverse' that when set to true will reverse the order\n",
    "        coordinates = [value for key, value in sorted(data[i].items(), reverse=True) if key == 'lng' or key == 'lat']\n",
    "        \n",
    "        # Loop through the key and values to populatate a new dictionary called properties\n",
    "        # Excluding the lat and lng\n",
    "        properties = {key: value for key, value in data[i].items() if key != \"lat\" and key != \"lng\"}\n",
    "        \n",
    "        # Create the key and values that will populate the features array\n",
    "        my_features = {\n",
    "            \"type\": \"Feature\",\n",
    "            \"properties\": properties,\n",
    "            \"geometry\": {\n",
    "                \"type\": \"LineString\",\n",
    "                \"coordinates\": coordinates\n",
    "            }\n",
    "        }\n",
    "        \n",
    "        # Append to the features array\n",
    "        features.append(my_features)\n",
    "        \n",
    "    # Create a new dictionary that will be the format for the geojson object\n",
    "    new_data = {\n",
    "        \"type\": \"FeatureCollection\",\n",
    "        \"features\": features\n",
    "    }\n",
    "    \n",
    "    \n",
    "    # Function returns the json object\n",
    "    return json.dumps(new_data)"
   ]
  },
  {
   "cell_type": "code",
   "execution_count": 10,
   "metadata": {},
   "outputs": [],
   "source": [
    "# Create some test data\n",
    "test = [{\n",
    "    'place': 'San Diego',\n",
    "    'mag': 3.2,\n",
    "    'lat': [32.7157, 38.3396],\n",
    "    'lng': [-117.611, -122.7011]\n",
    "}]"
   ]
  },
  {
   "cell_type": "code",
   "execution_count": 11,
   "metadata": {},
   "outputs": [
    {
     "name": "stdout",
     "output_type": "stream",
     "text": [
      "('{\"type\": \"FeatureCollection\", \"features\": [{\"type\": \"Feature\", \"properties\": '\n",
      " '{\"place\": \"San Diego\", \"mag\": 3.2}, \"geometry\": {\"type\": \"LineString\", '\n",
      " '\"coordinates\": [[-117.611, -122.7011], [32.7157, 38.3396]]}}]}')\n"
     ]
    }
   ],
   "source": [
    "# Test the function\n",
    "result = line_string(test)\n",
    "\n",
    "pprint(result)"
   ]
  }
 ],
 "metadata": {
  "kernelspec": {
   "display_name": "Python 3",
   "language": "python",
   "name": "python3"
  },
  "language_info": {
   "codemirror_mode": {
    "name": "ipython",
    "version": 3
   },
   "file_extension": ".py",
   "mimetype": "text/x-python",
   "name": "python",
   "nbconvert_exporter": "python",
   "pygments_lexer": "ipython3",
   "version": "3.6.8"
  }
 },
 "nbformat": 4,
 "nbformat_minor": 2
}
