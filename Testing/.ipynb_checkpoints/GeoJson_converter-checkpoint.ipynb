{
 "cells": [
  {
   "cell_type": "code",
   "execution_count": 2,
   "metadata": {},
   "outputs": [
    {
     "name": "stdout",
     "output_type": "stream",
     "text": [
      "[{'lat': 32.7157, 'lng': -117.611, 'mag': 3.2, 'place': 'San Diego'},\n",
      " {'lat': 38.3396, 'lng': -122.7011, 'mag': 4.5, 'place': 'Rohnert Park'},\n",
      " {'lat': 30.1515, 'lng': -110.202, 'mag': 6.0, 'place': 'Random'}]\n"
     ]
    }
   ],
   "source": [
    "from pprint import pprint\n",
    "import json\n",
    "import pandas as pd\n",
    "import geopandas as gpd\n",
    "from shapely.geometry import Point, Polygon, LineString\n",
    "# Create a test dictionary \n",
    "test = [{\n",
    "    'place': 'San Diego',\n",
    "    'mag': 3.2,\n",
    "    'lat': 32.7157,\n",
    "    'lng': -117.611\n",
    "},\n",
    "{\n",
    "    'place': 'Rohnert Park',\n",
    "    'mag': 4.5,\n",
    "    'lat': 38.3396,\n",
    "    'lng': -122.7011\n",
    "},\n",
    "{\n",
    "    'place': 'Random',\n",
    "    'mag': 6.0,\n",
    "    'lat': 30.1515,\n",
    "    'lng': -110.2020\n",
    "}]\n",
    "\n",
    "pprint(test)"
   ]
  },
  {
   "cell_type": "code",
   "execution_count": 12,
   "metadata": {},
   "outputs": [],
   "source": [
    "# Create the Geojson converter function\n",
    "def geojsonify_v3(data):\n",
    "    \n",
    "    # Convert the data into a DataFrame\n",
    "    df = pd.DataFrame(data)\n",
    "\n",
    "    # Initialize the features array\n",
    "    features = []\n",
    "\n",
    "    # Zip the coordinates together and put them in a new DF column\n",
    "    df['Coordinates'] = list(zip(df.lng, df.lat))\n",
    "    df['Coordinates'] = df['Coordinates'].apply(Point)\n",
    "    \n",
    "    # Drop the lat and lng columns\n",
    "    df = df.drop(['lat', 'lng'])\n",
    "    \n",
    "    # Convert to a Geopandas DataFrame\n",
    "    gdf = gpd.GeoDataFrame(df, geometry='Coordinates')\n",
    "\n",
    "    # Itterate through the rows of the gdf\n",
    "\n",
    "    # Create the key and values that will populate the features array\n",
    "    my_features = {\n",
    "        \"type\": \"Feature\",\n",
    "        \"properties\": properties,\n",
    "        \"geometry\": {\n",
    "            \"type\": \"Point\",\n",
    "            \"coordinates\": coordinates\n",
    "        }\n",
    "    }\n",
    "\n",
    "    # Append to the features array\n",
    "    features.append(my_features)\n",
    "\n",
    "    # Create a new dictionary that will be the format for the geojson object\n",
    "    new_data = {\n",
    "        \"type\": \"FeatureCollection\",\n",
    "        \"features\": features\n",
    "    }\n",
    "    \n",
    "    # Return a json object using json.dumps\n",
    "    return json.dumps(new_data)"
   ]
  },
  {
   "cell_type": "code",
   "execution_count": 3,
   "metadata": {},
   "outputs": [],
   "source": [
    "# Idea #2 for a geojsonify function\n",
    "def geojsonify_v2(data):\n",
    "    \n",
    "    # Initialize the features array\n",
    "    features = []\n",
    "    \n",
    "    # Loop through the list of dictionaries\n",
    "    for i in range(0, len(data)):\n",
    "        \n",
    "#         # Initialize the features array\n",
    "#         features = []\n",
    "        \n",
    "        # List comprehension to grab the coordinates in the order of longitude, latitude\n",
    "        # The function sorted() uses a keyword 'reverse' that when set to true will reverse the order\n",
    "        coordinates = [value for key, value in sorted(data[i].items(), reverse=True) if key == 'lng' or key == 'lat']\n",
    "        \n",
    "        # Loop through the key and values to populatate a new dictionary called properties\n",
    "        # Excluding the lat and lng\n",
    "        properties = {key: value for key, value in data[i].items() if key != \"lat\" and key != \"lng\"}\n",
    "        \n",
    "        # Create the key and values that will populate the features array\n",
    "        my_features = {\n",
    "            \"type\": \"Feature\",\n",
    "            \"properties\": properties,\n",
    "            \"geometry\": {\n",
    "                \"type\": \"Point\",\n",
    "                \"coordinates\": coordinates\n",
    "            }\n",
    "        }\n",
    "        \n",
    "        # Append to the features array\n",
    "        features.append(my_features)\n",
    "        \n",
    "    # Create a new dictionary that will be the format for the geojson object\n",
    "    new_data = {\n",
    "        \"type\": \"FeatureCollection\",\n",
    "        \"features\": features\n",
    "    }\n",
    "    \n",
    "    \n",
    "    # Function returns the json object\n",
    "    return json.dumps(new_data)"
   ]
  },
  {
   "cell_type": "code",
   "execution_count": 13,
   "metadata": {},
   "outputs": [
    {
     "ename": "TypeError",
     "evalue": "Object of type 'Series' is not JSON serializable",
     "output_type": "error",
     "traceback": [
      "\u001b[1;31m---------------------------------------------------------------------------\u001b[0m",
      "\u001b[1;31mTypeError\u001b[0m                                 Traceback (most recent call last)",
      "\u001b[1;32m<ipython-input-13-3abcf8b37832>\u001b[0m in \u001b[0;36m<module>\u001b[1;34m\u001b[0m\n\u001b[0;32m      1\u001b[0m \u001b[1;31m# Test the geojsonify function with the test data\u001b[0m\u001b[1;33m\u001b[0m\u001b[1;33m\u001b[0m\u001b[1;33m\u001b[0m\u001b[0m\n\u001b[1;32m----> 2\u001b[1;33m \u001b[0mmy_test\u001b[0m \u001b[1;33m=\u001b[0m \u001b[0mgeojsonify_v3\u001b[0m\u001b[1;33m(\u001b[0m\u001b[0mtest\u001b[0m\u001b[1;33m)\u001b[0m\u001b[1;33m\u001b[0m\u001b[1;33m\u001b[0m\u001b[0m\n\u001b[0m\u001b[0;32m      3\u001b[0m \u001b[1;33m\u001b[0m\u001b[0m\n\u001b[0;32m      4\u001b[0m \u001b[1;31m# Preview the result\u001b[0m\u001b[1;33m\u001b[0m\u001b[1;33m\u001b[0m\u001b[1;33m\u001b[0m\u001b[0m\n\u001b[0;32m      5\u001b[0m \u001b[0mpprint\u001b[0m\u001b[1;33m(\u001b[0m\u001b[0mmy_test\u001b[0m\u001b[1;33m)\u001b[0m\u001b[1;33m\u001b[0m\u001b[1;33m\u001b[0m\u001b[0m\n",
      "\u001b[1;32m<ipython-input-12-0bb3a311d7e7>\u001b[0m in \u001b[0;36mgeojsonify_v3\u001b[1;34m(data)\u001b[0m\n\u001b[0;32m     44\u001b[0m \u001b[1;33m\u001b[0m\u001b[0m\n\u001b[0;32m     45\u001b[0m     \u001b[1;31m# Return a json object using json.dumps\u001b[0m\u001b[1;33m\u001b[0m\u001b[1;33m\u001b[0m\u001b[1;33m\u001b[0m\u001b[0m\n\u001b[1;32m---> 46\u001b[1;33m     \u001b[1;32mreturn\u001b[0m \u001b[0mjson\u001b[0m\u001b[1;33m.\u001b[0m\u001b[0mdumps\u001b[0m\u001b[1;33m(\u001b[0m\u001b[0mnew_data\u001b[0m\u001b[1;33m)\u001b[0m\u001b[1;33m\u001b[0m\u001b[1;33m\u001b[0m\u001b[0m\n\u001b[0m",
      "\u001b[1;32m~\\Anaconda3\\envs\\PythonData\\lib\\json\\__init__.py\u001b[0m in \u001b[0;36mdumps\u001b[1;34m(obj, skipkeys, ensure_ascii, check_circular, allow_nan, cls, indent, separators, default, sort_keys, **kw)\u001b[0m\n\u001b[0;32m    229\u001b[0m         \u001b[0mcls\u001b[0m \u001b[1;32mis\u001b[0m \u001b[1;32mNone\u001b[0m \u001b[1;32mand\u001b[0m \u001b[0mindent\u001b[0m \u001b[1;32mis\u001b[0m \u001b[1;32mNone\u001b[0m \u001b[1;32mand\u001b[0m \u001b[0mseparators\u001b[0m \u001b[1;32mis\u001b[0m \u001b[1;32mNone\u001b[0m \u001b[1;32mand\u001b[0m\u001b[1;33m\u001b[0m\u001b[1;33m\u001b[0m\u001b[0m\n\u001b[0;32m    230\u001b[0m         default is None and not sort_keys and not kw):\n\u001b[1;32m--> 231\u001b[1;33m         \u001b[1;32mreturn\u001b[0m \u001b[0m_default_encoder\u001b[0m\u001b[1;33m.\u001b[0m\u001b[0mencode\u001b[0m\u001b[1;33m(\u001b[0m\u001b[0mobj\u001b[0m\u001b[1;33m)\u001b[0m\u001b[1;33m\u001b[0m\u001b[1;33m\u001b[0m\u001b[0m\n\u001b[0m\u001b[0;32m    232\u001b[0m     \u001b[1;32mif\u001b[0m \u001b[0mcls\u001b[0m \u001b[1;32mis\u001b[0m \u001b[1;32mNone\u001b[0m\u001b[1;33m:\u001b[0m\u001b[1;33m\u001b[0m\u001b[1;33m\u001b[0m\u001b[0m\n\u001b[0;32m    233\u001b[0m         \u001b[0mcls\u001b[0m \u001b[1;33m=\u001b[0m \u001b[0mJSONEncoder\u001b[0m\u001b[1;33m\u001b[0m\u001b[1;33m\u001b[0m\u001b[0m\n",
      "\u001b[1;32m~\\Anaconda3\\envs\\PythonData\\lib\\json\\encoder.py\u001b[0m in \u001b[0;36mencode\u001b[1;34m(self, o)\u001b[0m\n\u001b[0;32m    197\u001b[0m         \u001b[1;31m# exceptions aren't as detailed.  The list call should be roughly\u001b[0m\u001b[1;33m\u001b[0m\u001b[1;33m\u001b[0m\u001b[1;33m\u001b[0m\u001b[0m\n\u001b[0;32m    198\u001b[0m         \u001b[1;31m# equivalent to the PySequence_Fast that ''.join() would do.\u001b[0m\u001b[1;33m\u001b[0m\u001b[1;33m\u001b[0m\u001b[1;33m\u001b[0m\u001b[0m\n\u001b[1;32m--> 199\u001b[1;33m         \u001b[0mchunks\u001b[0m \u001b[1;33m=\u001b[0m \u001b[0mself\u001b[0m\u001b[1;33m.\u001b[0m\u001b[0miterencode\u001b[0m\u001b[1;33m(\u001b[0m\u001b[0mo\u001b[0m\u001b[1;33m,\u001b[0m \u001b[0m_one_shot\u001b[0m\u001b[1;33m=\u001b[0m\u001b[1;32mTrue\u001b[0m\u001b[1;33m)\u001b[0m\u001b[1;33m\u001b[0m\u001b[1;33m\u001b[0m\u001b[0m\n\u001b[0m\u001b[0;32m    200\u001b[0m         \u001b[1;32mif\u001b[0m \u001b[1;32mnot\u001b[0m \u001b[0misinstance\u001b[0m\u001b[1;33m(\u001b[0m\u001b[0mchunks\u001b[0m\u001b[1;33m,\u001b[0m \u001b[1;33m(\u001b[0m\u001b[0mlist\u001b[0m\u001b[1;33m,\u001b[0m \u001b[0mtuple\u001b[0m\u001b[1;33m)\u001b[0m\u001b[1;33m)\u001b[0m\u001b[1;33m:\u001b[0m\u001b[1;33m\u001b[0m\u001b[1;33m\u001b[0m\u001b[0m\n\u001b[0;32m    201\u001b[0m             \u001b[0mchunks\u001b[0m \u001b[1;33m=\u001b[0m \u001b[0mlist\u001b[0m\u001b[1;33m(\u001b[0m\u001b[0mchunks\u001b[0m\u001b[1;33m)\u001b[0m\u001b[1;33m\u001b[0m\u001b[1;33m\u001b[0m\u001b[0m\n",
      "\u001b[1;32m~\\Anaconda3\\envs\\PythonData\\lib\\json\\encoder.py\u001b[0m in \u001b[0;36miterencode\u001b[1;34m(self, o, _one_shot)\u001b[0m\n\u001b[0;32m    255\u001b[0m                 \u001b[0mself\u001b[0m\u001b[1;33m.\u001b[0m\u001b[0mkey_separator\u001b[0m\u001b[1;33m,\u001b[0m \u001b[0mself\u001b[0m\u001b[1;33m.\u001b[0m\u001b[0mitem_separator\u001b[0m\u001b[1;33m,\u001b[0m \u001b[0mself\u001b[0m\u001b[1;33m.\u001b[0m\u001b[0msort_keys\u001b[0m\u001b[1;33m,\u001b[0m\u001b[1;33m\u001b[0m\u001b[1;33m\u001b[0m\u001b[0m\n\u001b[0;32m    256\u001b[0m                 self.skipkeys, _one_shot)\n\u001b[1;32m--> 257\u001b[1;33m         \u001b[1;32mreturn\u001b[0m \u001b[0m_iterencode\u001b[0m\u001b[1;33m(\u001b[0m\u001b[0mo\u001b[0m\u001b[1;33m,\u001b[0m \u001b[1;36m0\u001b[0m\u001b[1;33m)\u001b[0m\u001b[1;33m\u001b[0m\u001b[1;33m\u001b[0m\u001b[0m\n\u001b[0m\u001b[0;32m    258\u001b[0m \u001b[1;33m\u001b[0m\u001b[0m\n\u001b[0;32m    259\u001b[0m def _make_iterencode(markers, _default, _encoder, _indent, _floatstr,\n",
      "\u001b[1;32m~\\Anaconda3\\envs\\PythonData\\lib\\json\\encoder.py\u001b[0m in \u001b[0;36mdefault\u001b[1;34m(self, o)\u001b[0m\n\u001b[0;32m    178\u001b[0m         \"\"\"\n\u001b[0;32m    179\u001b[0m         raise TypeError(\"Object of type '%s' is not JSON serializable\" %\n\u001b[1;32m--> 180\u001b[1;33m                         o.__class__.__name__)\n\u001b[0m\u001b[0;32m    181\u001b[0m \u001b[1;33m\u001b[0m\u001b[0m\n\u001b[0;32m    182\u001b[0m     \u001b[1;32mdef\u001b[0m \u001b[0mencode\u001b[0m\u001b[1;33m(\u001b[0m\u001b[0mself\u001b[0m\u001b[1;33m,\u001b[0m \u001b[0mo\u001b[0m\u001b[1;33m)\u001b[0m\u001b[1;33m:\u001b[0m\u001b[1;33m\u001b[0m\u001b[1;33m\u001b[0m\u001b[0m\n",
      "\u001b[1;31mTypeError\u001b[0m: Object of type 'Series' is not JSON serializable"
     ]
    }
   ],
   "source": [
    "# Test the geojsonify function with the test data\n",
    "my_test = geojsonify_v3(test)\n",
    "\n",
    "# Preview the result\n",
    "pprint(my_test)"
   ]
  },
  {
   "cell_type": "code",
   "execution_count": 6,
   "metadata": {},
   "outputs": [],
   "source": [
    "# Test #2 with a longer list of dictionaries\n",
    "test_2 = [{\n",
    "    'place': 'San Diego',\n",
    "    'mag': 3.2,\n",
    "    'lat': 32.7157,\n",
    "    'lng': -117.611\n",
    "},\n",
    "{\n",
    "    'place': 'Rohnert Park',\n",
    "    'mag': 4.5,\n",
    "    'lat': 38.3396,\n",
    "    'lng': -122.7011\n",
    "},\n",
    "{\n",
    "    'place': 'San Francisco',\n",
    "    'mag': 6.0,\n",
    "    'lat': 37.7749,\n",
    "    'lng': -122.4194\n",
    "},\n",
    "{\n",
    "    'place': 'Jacksonville',\n",
    "    'mag': 3.5,\n",
    "    'lat': 30.3322,\n",
    "    'lng': -81.6557\n",
    "},\n",
    "{\n",
    "    'place': 'St. Louis',\n",
    "    'mag': 5.5,\n",
    "    'lat': 38.6270,\n",
    "    'lng': -90.1994\n",
    "}]"
   ]
  },
  {
   "cell_type": "code",
   "execution_count": 7,
   "metadata": {},
   "outputs": [
    {
     "name": "stdout",
     "output_type": "stream",
     "text": [
      "('{\"type\": \"FeatureCollection\", \"features\": [{\"type\": \"Feature\", \"properties\": '\n",
      " '{\"place\": \"San Diego\", \"mag\": 3.2}, \"geometry\": {\"type\": \"Point\", '\n",
      " '\"coordinates\": [-117.611, 32.7157]}}, {\"type\": \"Feature\", \"properties\": '\n",
      " '{\"place\": \"Rohnert Park\", \"mag\": 4.5}, \"geometry\": {\"type\": \"Point\", '\n",
      " '\"coordinates\": [-122.7011, 38.3396]}}, {\"type\": \"Feature\", \"properties\": '\n",
      " '{\"place\": \"San Francisco\", \"mag\": 6.0}, \"geometry\": {\"type\": \"Point\", '\n",
      " '\"coordinates\": [-122.4194, 37.7749]}}, {\"type\": \"Feature\", \"properties\": '\n",
      " '{\"place\": \"Jacksonville\", \"mag\": 3.5}, \"geometry\": {\"type\": \"Point\", '\n",
      " '\"coordinates\": [-81.6557, 30.3322]}}, {\"type\": \"Feature\", \"properties\": '\n",
      " '{\"place\": \"St. Louis\", \"mag\": 5.5}, \"geometry\": {\"type\": \"Point\", '\n",
      " '\"coordinates\": [-90.1994, 38.627]}}]}')\n"
     ]
    }
   ],
   "source": [
    "# Print the results of test #2\n",
    "pprint(geojsonify_v2(test_2))"
   ]
  }
 ],
 "metadata": {
  "kernelspec": {
   "display_name": "Python 3",
   "language": "python",
   "name": "python3"
  },
  "language_info": {
   "codemirror_mode": {
    "name": "ipython",
    "version": 3
   },
   "file_extension": ".py",
   "mimetype": "text/x-python",
   "name": "python",
   "nbconvert_exporter": "python",
   "pygments_lexer": "ipython3",
   "version": "3.6.8"
  }
 },
 "nbformat": 4,
 "nbformat_minor": 4
}
